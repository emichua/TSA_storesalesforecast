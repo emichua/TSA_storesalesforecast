version https://git-lfs.github.com/spec/v1
oid sha256:ee847064293f164ae2f23f8249ad19f9184208a28606a2fa523909f3849d2ae0
size 4228562
